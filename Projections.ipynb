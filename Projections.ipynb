{
 "cells": [
  {
   "cell_type": "code",
   "execution_count": 2,
   "id": "ce9fb38d-10d1-4ec7-adb1-b169561d393c",
   "metadata": {},
   "outputs": [
    {
     "name": "stdout",
     "output_type": "stream",
     "text": [
      "Requirement already satisfied: matplotlib in c:\\users\\chris\\appdata\\local\\programs\\python\\python313\\lib\\site-packages (3.10.1)\n",
      "Requirement already satisfied: contourpy>=1.0.1 in c:\\users\\chris\\appdata\\local\\programs\\python\\python313\\lib\\site-packages (from matplotlib) (1.3.2)\n",
      "Requirement already satisfied: cycler>=0.10 in c:\\users\\chris\\appdata\\local\\programs\\python\\python313\\lib\\site-packages (from matplotlib) (0.12.1)\n",
      "Requirement already satisfied: fonttools>=4.22.0 in c:\\users\\chris\\appdata\\local\\programs\\python\\python313\\lib\\site-packages (from matplotlib) (4.57.0)\n",
      "Requirement already satisfied: kiwisolver>=1.3.1 in c:\\users\\chris\\appdata\\local\\programs\\python\\python313\\lib\\site-packages (from matplotlib) (1.4.8)\n",
      "Requirement already satisfied: numpy>=1.23 in c:\\users\\chris\\appdata\\local\\programs\\python\\python313\\lib\\site-packages (from matplotlib) (2.2.4)\n",
      "Requirement already satisfied: packaging>=20.0 in c:\\users\\chris\\appdata\\local\\programs\\python\\python313\\lib\\site-packages (from matplotlib) (24.2)\n",
      "Requirement already satisfied: pillow>=8 in c:\\users\\chris\\appdata\\local\\programs\\python\\python313\\lib\\site-packages (from matplotlib) (11.2.1)\n",
      "Requirement already satisfied: pyparsing>=2.3.1 in c:\\users\\chris\\appdata\\local\\programs\\python\\python313\\lib\\site-packages (from matplotlib) (3.2.3)\n",
      "Requirement already satisfied: python-dateutil>=2.7 in c:\\users\\chris\\appdata\\local\\programs\\python\\python313\\lib\\site-packages (from matplotlib) (2.9.0.post0)\n",
      "Requirement already satisfied: six>=1.5 in c:\\users\\chris\\appdata\\local\\programs\\python\\python313\\lib\\site-packages (from python-dateutil>=2.7->matplotlib) (1.17.0)\n",
      "Requirement already satisfied: seaborn in c:\\users\\chris\\appdata\\local\\programs\\python\\python313\\lib\\site-packages (0.13.2)\n",
      "Requirement already satisfied: numpy!=1.24.0,>=1.20 in c:\\users\\chris\\appdata\\local\\programs\\python\\python313\\lib\\site-packages (from seaborn) (2.2.4)\n",
      "Requirement already satisfied: pandas>=1.2 in c:\\users\\chris\\appdata\\local\\programs\\python\\python313\\lib\\site-packages (from seaborn) (2.2.3)\n",
      "Requirement already satisfied: matplotlib!=3.6.1,>=3.4 in c:\\users\\chris\\appdata\\local\\programs\\python\\python313\\lib\\site-packages (from seaborn) (3.10.1)\n",
      "Requirement already satisfied: contourpy>=1.0.1 in c:\\users\\chris\\appdata\\local\\programs\\python\\python313\\lib\\site-packages (from matplotlib!=3.6.1,>=3.4->seaborn) (1.3.2)\n",
      "Requirement already satisfied: cycler>=0.10 in c:\\users\\chris\\appdata\\local\\programs\\python\\python313\\lib\\site-packages (from matplotlib!=3.6.1,>=3.4->seaborn) (0.12.1)\n",
      "Requirement already satisfied: fonttools>=4.22.0 in c:\\users\\chris\\appdata\\local\\programs\\python\\python313\\lib\\site-packages (from matplotlib!=3.6.1,>=3.4->seaborn) (4.57.0)\n",
      "Requirement already satisfied: kiwisolver>=1.3.1 in c:\\users\\chris\\appdata\\local\\programs\\python\\python313\\lib\\site-packages (from matplotlib!=3.6.1,>=3.4->seaborn) (1.4.8)\n",
      "Requirement already satisfied: packaging>=20.0 in c:\\users\\chris\\appdata\\local\\programs\\python\\python313\\lib\\site-packages (from matplotlib!=3.6.1,>=3.4->seaborn) (24.2)\n",
      "Requirement already satisfied: pillow>=8 in c:\\users\\chris\\appdata\\local\\programs\\python\\python313\\lib\\site-packages (from matplotlib!=3.6.1,>=3.4->seaborn) (11.2.1)\n",
      "Requirement already satisfied: pyparsing>=2.3.1 in c:\\users\\chris\\appdata\\local\\programs\\python\\python313\\lib\\site-packages (from matplotlib!=3.6.1,>=3.4->seaborn) (3.2.3)\n",
      "Requirement already satisfied: python-dateutil>=2.7 in c:\\users\\chris\\appdata\\local\\programs\\python\\python313\\lib\\site-packages (from matplotlib!=3.6.1,>=3.4->seaborn) (2.9.0.post0)\n",
      "Requirement already satisfied: pytz>=2020.1 in c:\\users\\chris\\appdata\\local\\programs\\python\\python313\\lib\\site-packages (from pandas>=1.2->seaborn) (2025.2)\n",
      "Requirement already satisfied: tzdata>=2022.7 in c:\\users\\chris\\appdata\\local\\programs\\python\\python313\\lib\\site-packages (from pandas>=1.2->seaborn) (2025.2)\n",
      "Requirement already satisfied: six>=1.5 in c:\\users\\chris\\appdata\\local\\programs\\python\\python313\\lib\\site-packages (from python-dateutil>=2.7->matplotlib!=3.6.1,>=3.4->seaborn) (1.17.0)\n",
      "Requirement already satisfied: numpy in c:\\users\\chris\\appdata\\local\\programs\\python\\python313\\lib\\site-packages (2.2.4)\n",
      "Requirement already satisfied: rdata in c:\\users\\chris\\appdata\\local\\programs\\python\\python313\\lib\\site-packages (0.11.2)\n",
      "Requirement already satisfied: numpy in c:\\users\\chris\\appdata\\local\\programs\\python\\python313\\lib\\site-packages (from rdata) (2.2.4)\n",
      "Requirement already satisfied: xarray in c:\\users\\chris\\appdata\\local\\programs\\python\\python313\\lib\\site-packages (from rdata) (2025.3.1)\n",
      "Requirement already satisfied: pandas in c:\\users\\chris\\appdata\\local\\programs\\python\\python313\\lib\\site-packages (from rdata) (2.2.3)\n",
      "Requirement already satisfied: typing-extensions>4.4 in c:\\users\\chris\\appdata\\local\\programs\\python\\python313\\lib\\site-packages (from rdata) (4.13.2)\n",
      "Requirement already satisfied: python-dateutil>=2.8.2 in c:\\users\\chris\\appdata\\local\\programs\\python\\python313\\lib\\site-packages (from pandas->rdata) (2.9.0.post0)\n",
      "Requirement already satisfied: pytz>=2020.1 in c:\\users\\chris\\appdata\\local\\programs\\python\\python313\\lib\\site-packages (from pandas->rdata) (2025.2)\n",
      "Requirement already satisfied: tzdata>=2022.7 in c:\\users\\chris\\appdata\\local\\programs\\python\\python313\\lib\\site-packages (from pandas->rdata) (2025.2)\n",
      "Requirement already satisfied: packaging>=23.2 in c:\\users\\chris\\appdata\\local\\programs\\python\\python313\\lib\\site-packages (from xarray->rdata) (24.2)\n",
      "Requirement already satisfied: six>=1.5 in c:\\users\\chris\\appdata\\local\\programs\\python\\python313\\lib\\site-packages (from python-dateutil>=2.8.2->pandas->rdata) (1.17.0)\n",
      "Requirement already satisfied: pyreadr in c:\\users\\chris\\appdata\\local\\programs\\python\\python313\\lib\\site-packages (0.5.3)\n",
      "Requirement already satisfied: pandas>=1.2.0 in c:\\users\\chris\\appdata\\local\\programs\\python\\python313\\lib\\site-packages (from pyreadr) (2.2.3)\n",
      "Requirement already satisfied: numpy>=1.26.0 in c:\\users\\chris\\appdata\\local\\programs\\python\\python313\\lib\\site-packages (from pandas>=1.2.0->pyreadr) (2.2.4)\n",
      "Requirement already satisfied: python-dateutil>=2.8.2 in c:\\users\\chris\\appdata\\local\\programs\\python\\python313\\lib\\site-packages (from pandas>=1.2.0->pyreadr) (2.9.0.post0)\n",
      "Requirement already satisfied: pytz>=2020.1 in c:\\users\\chris\\appdata\\local\\programs\\python\\python313\\lib\\site-packages (from pandas>=1.2.0->pyreadr) (2025.2)\n",
      "Requirement already satisfied: tzdata>=2022.7 in c:\\users\\chris\\appdata\\local\\programs\\python\\python313\\lib\\site-packages (from pandas>=1.2.0->pyreadr) (2025.2)\n",
      "Requirement already satisfied: six>=1.5 in c:\\users\\chris\\appdata\\local\\programs\\python\\python313\\lib\\site-packages (from python-dateutil>=2.8.2->pandas>=1.2.0->pyreadr) (1.17.0)\n"
     ]
    }
   ],
   "source": [
    "!pip install matplotlib\n",
    "!pip install seaborn \n",
    "!pip install numpy \n",
    "!pip install rdata\n",
    "!pip install pyreadr"
   ]
  },
  {
   "cell_type": "code",
   "execution_count": 3,
   "id": "33f6f89c-e603-498a-acfc-f6d9098bc4b2",
   "metadata": {},
   "outputs": [],
   "source": [
    "import numpy as np\n",
    "import pandas as pd\n",
    "import matplotlib.pyplot as plt\n",
    "import seaborn as sns\n",
    "import statsmodels.api as sm\n",
    "from pathlib import Path\n",
    "import os\n",
    "import pickle\n",
    "import rdata\n",
    "import pyreadr"
   ]
  },
  {
   "cell_type": "code",
   "execution_count": 4,
   "id": "4afb2f0f-5224-420f-ac1f-f81659a679ff",
   "metadata": {},
   "outputs": [],
   "source": [
    "#Read in all data\n",
    "data = pd.read_csv(\"clim_conflict_for_R.csv\")\n",
    "area = pd.read_csv(\"croparea_weight.csv\", encoding=\"windows-1252\")\n",
    "ssa = pd.read_csv(\"gseasSSA.csv\")\n",
    "cltol = pd.read_csv(\"precip_climatology.csv\", index_col=0)\n",
    "mss_country = pd.read_csv(\"mss_countries_new.csv\", header=0)\n",
    "mss_country.iloc[:, 0] = mss_country.iloc[:, 0].astype(str)\n",
    "mss = mss_country.iloc[:, 0].unique().tolist()"
   ]
  },
  {
   "cell_type": "code",
   "execution_count": 5,
   "id": "c4d303e1-795b-4164-a218-f2ecc0db689b",
   "metadata": {},
   "outputs": [],
   "source": [
    "#Import the altogether_montly array\n",
    "altogether_monthly = np.load(\"altogether_monthly.npy\")"
   ]
  },
  {
   "cell_type": "code",
   "execution_count": 6,
   "id": "1267ca51-1fd5-4350-a0db-0876b96de57d",
   "metadata": {},
   "outputs": [],
   "source": [
    "#Generate projections of income and regime change to 2030.\n",
    "#Income projections\n",
    "ystart = data.loc[data[\"year_actual\"] == 1981, data.columns[9]]\n",
    "yend = data.loc[data[\"year_actual\"] == 2002, data.columns[9]]\n",
    "\n",
    "# Annual growth rate\n",
    "ygro = np.exp(np.log(yend.values / ystart.values) / 21)\n",
    "\n",
    "# Projections to 2030: using fixed 2% and historical median\n",
    "median_yend = np.median(yend.dropna())\n",
    "median_ygro = np.median(ygro[~np.isnan(ygro)])\n",
    "\n",
    "incchg = np.array([\n",
    "    median_yend * (1.02) ** 27,                          # Fixed 2% growth\n",
    "    median_yend * (median_ygro) ** 27                    # Historical median growth\n",
    "]) - median_yend\n",
    "\n",
    "# Polity projections\n",
    "polstart = data.loc[data[\"year_actual\"] == 1981, data.columns[227]]\n",
    "polend = data.loc[data[\"year_actual\"] == 2002, data.columns[227]]\n",
    "\n",
    "polchg = polend.values - polstart.values\n",
    "pol2030 = polend.values + np.median(polchg[~np.isnan(polchg)])\n",
    "pol2030 = np.clip(pol2030, None, 10)\n",
    "polchg_final = np.mean(pol2030 - polend.values)"
   ]
  },
  {
   "cell_type": "code",
   "execution_count": 7,
   "id": "4d302c47-1487-44fd-bd65-992f42c332e5",
   "metadata": {},
   "outputs": [],
   "source": [
    "#Make area weights by region\n",
    "mask = area.iloc[:, 1] != \"Cereals,Total +\"\n",
    "for i in area[mask].index:\n",
    "    # Find the corresponding cereal row in the top 42 rows with same country\n",
    "    match = area.iloc[:42]\n",
    "    match_idx = match[match.iloc[:, 0] == area.iloc[i, 0]].index\n",
    "    if not match_idx.empty:\n",
    "        area.at[i, area.columns[4]] = area.at[match_idx[0], area.columns[4]]\n",
    "\n",
    "#Calculate unweighted area sums by region\n",
    "unweight = []\n",
    "for j in range(1, 6):  \n",
    "    cond = (area.iloc[:, 1] == \"land area\") & (area.iloc[:, 4] == j)\n",
    "    total = area.loc[cond, area.columns[3]].sum()\n",
    "    unweight.append(total)\n",
    "\n",
    "#Normalize\n",
    "unweight = np.array(unweight)\n",
    "unweight = unweight / unweight.sum()"
   ]
  },
  {
   "cell_type": "code",
   "execution_count": 8,
   "id": "7e6c5170-1f14-4a3c-8e96-4c4fb6684d17",
   "metadata": {},
   "outputs": [
    {
     "name": "stderr",
     "output_type": "stream",
     "text": [
      "C:\\Users\\chris\\AppData\\Local\\Programs\\Python\\Python313\\Lib\\site-packages\\numpy\\_core\\_methods.py:135: RuntimeWarning: invalid value encountered in reduce\n",
      "  ret = umr_sum(arr, axis, dtype, out, keepdims, where=where)\n",
      "C:\\Users\\chris\\AppData\\Local\\Temp\\ipykernel_6704\\1190004525.py:16: RuntimeWarning: invalid value encountered in divide\n",
      "  chg = altogether_monthly[i + 3, :, j, k, n] / 100 + 1\n"
     ]
    }
   ],
   "source": [
    "#Climate model projections\n",
    "clim = np.empty((6, 3, 2, 20))  # dims: region, model, variable (temp/precip), projection\n",
    "\n",
    "#For temperature, averaging over monthly projected changes\n",
    "k = 0\n",
    "for i in range(5):       \n",
    "    for j in range(3):  \n",
    "        slice_ = altogether_monthly[i + 3, :, j, k, :20]  # (12 months x 20 projections)\n",
    "        clim[i, j, k, :] = slice_.mean(axis=0)\n",
    "\n",
    "#For precip, apply percentage changes to baseline climatatology, then compute total change in precip across months \n",
    "k = 1\n",
    "for i in range(5):\n",
    "    for j in range(3):\n",
    "        for n in range(20):\n",
    "            chg = altogether_monthly[i + 3, :, j, k, n] / 100 + 1\n",
    "            clim[i, j, k, n] = (np.sum(cltol.iloc[i, :] * chg) / np.sum(cltol.iloc[i, :]) - 1) * 100 \n",
    "for j in range(3):\n",
    "    for k in range(2):\n",
    "        for n in range(20):\n",
    "            clim[5, j, k, n] = np.sum(clim[0:5, j, k, n] * unweight)\n",
    "#Fixing an error where NaNs appear as -100 values\n",
    "clim[clim == -100] = np.nan"
   ]
  },
  {
   "cell_type": "code",
   "execution_count": null,
   "id": "1ae81be1-da68-4f74-85f1-5f0db2cd1c76",
   "metadata": {},
   "outputs": [],
   "source": []
  }
 ],
 "metadata": {
  "kernelspec": {
   "display_name": "Python 3 (ipykernel)",
   "language": "python",
   "name": "python3"
  },
  "language_info": {
   "codemirror_mode": {
    "name": "ipython",
    "version": 3
   },
   "file_extension": ".py",
   "mimetype": "text/x-python",
   "name": "python",
   "nbconvert_exporter": "python",
   "pygments_lexer": "ipython3",
   "version": "3.13.3"
  }
 },
 "nbformat": 4,
 "nbformat_minor": 5
}
